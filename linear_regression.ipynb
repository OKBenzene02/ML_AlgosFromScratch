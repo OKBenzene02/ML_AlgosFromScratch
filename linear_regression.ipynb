{
 "cells": [
  {
   "cell_type": "markdown",
   "id": "7987e0c5",
   "metadata": {},
   "source": [
    "## Import required Libraries and packages"
   ]
  },
  {
   "cell_type": "code",
   "execution_count": 20,
   "id": "852fd847",
   "metadata": {},
   "outputs": [],
   "source": [
    "import pandas as pd\n",
    "import numpy as np\n",
    "from pandas import Series, DataFrame\n",
    "\n",
    "import matplotlib.pyplot as plt\n",
    "import seaborn as sb\n",
    "from matplotlib import rcParams\n",
    "\n",
    "import sklearn as sk\n",
    "from sklearn import datasets\n",
    "from sklearn.metrics import r2_score\n",
    "from sklearn.preprocessing import StandardScaler\n",
    "from sklearn.model_selection import train_test_split\n",
    "\n",
    "%matplotlib inline\n",
    "rcParams['figure.figsize'] = 10, 5\n",
    "sb.set_style('whitegrid')\n",
    "np.set_printoptions(precision=4, suppress=True)"
   ]
  },
  {
   "cell_type": "markdown",
   "id": "73e9153a",
   "metadata": {},
   "source": [
    "### Import data from sklearn package datasets and setting up the data"
   ]
  },
  {
   "cell_type": "code",
   "execution_count": 21,
   "id": "13ea7b8c",
   "metadata": {},
   "outputs": [],
   "source": [
    "data = datasets.load_diabetes()"
   ]
  },
  {
   "cell_type": "code",
   "execution_count": 22,
   "id": "ad0e42b9",
   "metadata": {},
   "outputs": [],
   "source": [
    "df = DataFrame(data.data, columns=data.feature_names)"
   ]
  },
  {
   "cell_type": "code",
   "execution_count": 23,
   "id": "02f3694e",
   "metadata": {},
   "outputs": [],
   "source": [
    "df['class'] = data.target"
   ]
  },
  {
   "cell_type": "code",
   "execution_count": 24,
   "id": "1bcc57aa",
   "metadata": {},
   "outputs": [
    {
     "data": {
      "text/html": [
       "<div>\n",
       "<style scoped>\n",
       "    .dataframe tbody tr th:only-of-type {\n",
       "        vertical-align: middle;\n",
       "    }\n",
       "\n",
       "    .dataframe tbody tr th {\n",
       "        vertical-align: top;\n",
       "    }\n",
       "\n",
       "    .dataframe thead th {\n",
       "        text-align: right;\n",
       "    }\n",
       "</style>\n",
       "<table border=\"1\" class=\"dataframe\">\n",
       "  <thead>\n",
       "    <tr style=\"text-align: right;\">\n",
       "      <th></th>\n",
       "      <th>age</th>\n",
       "      <th>sex</th>\n",
       "      <th>bmi</th>\n",
       "      <th>bp</th>\n",
       "      <th>s1</th>\n",
       "      <th>s2</th>\n",
       "      <th>s3</th>\n",
       "      <th>s4</th>\n",
       "      <th>s5</th>\n",
       "      <th>s6</th>\n",
       "      <th>class</th>\n",
       "    </tr>\n",
       "  </thead>\n",
       "  <tbody>\n",
       "    <tr>\n",
       "      <th>0</th>\n",
       "      <td>0.038076</td>\n",
       "      <td>0.050680</td>\n",
       "      <td>0.061696</td>\n",
       "      <td>0.021872</td>\n",
       "      <td>-0.044223</td>\n",
       "      <td>-0.034821</td>\n",
       "      <td>-0.043401</td>\n",
       "      <td>-0.002592</td>\n",
       "      <td>0.019907</td>\n",
       "      <td>-0.017646</td>\n",
       "      <td>151.0</td>\n",
       "    </tr>\n",
       "    <tr>\n",
       "      <th>1</th>\n",
       "      <td>-0.001882</td>\n",
       "      <td>-0.044642</td>\n",
       "      <td>-0.051474</td>\n",
       "      <td>-0.026328</td>\n",
       "      <td>-0.008449</td>\n",
       "      <td>-0.019163</td>\n",
       "      <td>0.074412</td>\n",
       "      <td>-0.039493</td>\n",
       "      <td>-0.068332</td>\n",
       "      <td>-0.092204</td>\n",
       "      <td>75.0</td>\n",
       "    </tr>\n",
       "    <tr>\n",
       "      <th>2</th>\n",
       "      <td>0.085299</td>\n",
       "      <td>0.050680</td>\n",
       "      <td>0.044451</td>\n",
       "      <td>-0.005670</td>\n",
       "      <td>-0.045599</td>\n",
       "      <td>-0.034194</td>\n",
       "      <td>-0.032356</td>\n",
       "      <td>-0.002592</td>\n",
       "      <td>0.002861</td>\n",
       "      <td>-0.025930</td>\n",
       "      <td>141.0</td>\n",
       "    </tr>\n",
       "    <tr>\n",
       "      <th>3</th>\n",
       "      <td>-0.089063</td>\n",
       "      <td>-0.044642</td>\n",
       "      <td>-0.011595</td>\n",
       "      <td>-0.036656</td>\n",
       "      <td>0.012191</td>\n",
       "      <td>0.024991</td>\n",
       "      <td>-0.036038</td>\n",
       "      <td>0.034309</td>\n",
       "      <td>0.022688</td>\n",
       "      <td>-0.009362</td>\n",
       "      <td>206.0</td>\n",
       "    </tr>\n",
       "    <tr>\n",
       "      <th>4</th>\n",
       "      <td>0.005383</td>\n",
       "      <td>-0.044642</td>\n",
       "      <td>-0.036385</td>\n",
       "      <td>0.021872</td>\n",
       "      <td>0.003935</td>\n",
       "      <td>0.015596</td>\n",
       "      <td>0.008142</td>\n",
       "      <td>-0.002592</td>\n",
       "      <td>-0.031988</td>\n",
       "      <td>-0.046641</td>\n",
       "      <td>135.0</td>\n",
       "    </tr>\n",
       "  </tbody>\n",
       "</table>\n",
       "</div>"
      ],
      "text/plain": [
       "        age       sex       bmi        bp        s1        s2        s3  \\\n",
       "0  0.038076  0.050680  0.061696  0.021872 -0.044223 -0.034821 -0.043401   \n",
       "1 -0.001882 -0.044642 -0.051474 -0.026328 -0.008449 -0.019163  0.074412   \n",
       "2  0.085299  0.050680  0.044451 -0.005670 -0.045599 -0.034194 -0.032356   \n",
       "3 -0.089063 -0.044642 -0.011595 -0.036656  0.012191  0.024991 -0.036038   \n",
       "4  0.005383 -0.044642 -0.036385  0.021872  0.003935  0.015596  0.008142   \n",
       "\n",
       "         s4        s5        s6  class  \n",
       "0 -0.002592  0.019907 -0.017646  151.0  \n",
       "1 -0.039493 -0.068332 -0.092204   75.0  \n",
       "2 -0.002592  0.002861 -0.025930  141.0  \n",
       "3  0.034309  0.022688 -0.009362  206.0  \n",
       "4 -0.002592 -0.031988 -0.046641  135.0  "
      ]
     },
     "execution_count": 24,
     "metadata": {},
     "output_type": "execute_result"
    }
   ],
   "source": [
    "df.head()"
   ]
  },
  {
   "cell_type": "markdown",
   "id": "1da80d7f",
   "metadata": {},
   "source": [
    "## EDA"
   ]
  },
  {
   "cell_type": "code",
   "execution_count": 25,
   "id": "137cb705",
   "metadata": {},
   "outputs": [
    {
     "data": {
      "text/plain": [
       "<Axes: >"
      ]
     },
     "execution_count": 25,
     "metadata": {},
     "output_type": "execute_result"
    },
    {
     "data": {
      "image/png": "[encoded data removed]",
      "text/plain": [
       "<Figure size 1000x500 with 2 Axes>"
      ]
     },
     "metadata": {},
     "output_type": "display_data"
    }
   ],
   "source": [
    "sb.heatmap(df.corr())"
   ]
  },
  {
   "cell_type": "code",
   "execution_count": 26,
   "id": "30a52f76",
   "metadata": {},
   "outputs": [],
   "source": [
    "selected_cols = df.corr()['class'].sort_values(ascending=False).index.tolist()[:-2]"
   ]
  },
  {
   "cell_type": "code",
   "execution_count": 27,
   "id": "ee301ee2",
   "metadata": {},
   "outputs": [],
   "source": [
    "df = df[selected_cols]"
   ]
  },
  {
   "cell_type": "code",
   "execution_count": 28,
   "id": "9b7a2d1f",
   "metadata": {},
   "outputs": [
    {
     "data": {
      "text/html": [
       "<div>\n",
       "<style scoped>\n",
       "    .dataframe tbody tr th:only-of-type {\n",
       "        vertical-align: middle;\n",
       "    }\n",
       "\n",
       "    .dataframe tbody tr th {\n",
       "        vertical-align: top;\n",
       "    }\n",
       "\n",
       "    .dataframe thead th {\n",
       "        text-align: right;\n",
       "    }\n",
       "</style>\n",
       "<table border=\"1\" class=\"dataframe\">\n",
       "  <thead>\n",
       "    <tr style=\"text-align: right;\">\n",
       "      <th></th>\n",
       "      <th>class</th>\n",
       "      <th>bmi</th>\n",
       "      <th>s5</th>\n",
       "      <th>bp</th>\n",
       "      <th>s4</th>\n",
       "      <th>s6</th>\n",
       "      <th>s1</th>\n",
       "      <th>age</th>\n",
       "      <th>s2</th>\n",
       "    </tr>\n",
       "  </thead>\n",
       "  <tbody>\n",
       "    <tr>\n",
       "      <th>0</th>\n",
       "      <td>151.0</td>\n",
       "      <td>0.061696</td>\n",
       "      <td>0.019907</td>\n",
       "      <td>0.021872</td>\n",
       "      <td>-0.002592</td>\n",
       "      <td>-0.017646</td>\n",
       "      <td>-0.044223</td>\n",
       "      <td>0.038076</td>\n",
       "      <td>-0.034821</td>\n",
       "    </tr>\n",
       "    <tr>\n",
       "      <th>1</th>\n",
       "      <td>75.0</td>\n",
       "      <td>-0.051474</td>\n",
       "      <td>-0.068332</td>\n",
       "      <td>-0.026328</td>\n",
       "      <td>-0.039493</td>\n",
       "      <td>-0.092204</td>\n",
       "      <td>-0.008449</td>\n",
       "      <td>-0.001882</td>\n",
       "      <td>-0.019163</td>\n",
       "    </tr>\n",
       "    <tr>\n",
       "      <th>2</th>\n",
       "      <td>141.0</td>\n",
       "      <td>0.044451</td>\n",
       "      <td>0.002861</td>\n",
       "      <td>-0.005670</td>\n",
       "      <td>-0.002592</td>\n",
       "      <td>-0.025930</td>\n",
       "      <td>-0.045599</td>\n",
       "      <td>0.085299</td>\n",
       "      <td>-0.034194</td>\n",
       "    </tr>\n",
       "    <tr>\n",
       "      <th>3</th>\n",
       "      <td>206.0</td>\n",
       "      <td>-0.011595</td>\n",
       "      <td>0.022688</td>\n",
       "      <td>-0.036656</td>\n",
       "      <td>0.034309</td>\n",
       "      <td>-0.009362</td>\n",
       "      <td>0.012191</td>\n",
       "      <td>-0.089063</td>\n",
       "      <td>0.024991</td>\n",
       "    </tr>\n",
       "    <tr>\n",
       "      <th>4</th>\n",
       "      <td>135.0</td>\n",
       "      <td>-0.036385</td>\n",
       "      <td>-0.031988</td>\n",
       "      <td>0.021872</td>\n",
       "      <td>-0.002592</td>\n",
       "      <td>-0.046641</td>\n",
       "      <td>0.003935</td>\n",
       "      <td>0.005383</td>\n",
       "      <td>0.015596</td>\n",
       "    </tr>\n",
       "    <tr>\n",
       "      <th>...</th>\n",
       "      <td>...</td>\n",
       "      <td>...</td>\n",
       "      <td>...</td>\n",
       "      <td>...</td>\n",
       "      <td>...</td>\n",
       "      <td>...</td>\n",
       "      <td>...</td>\n",
       "      <td>...</td>\n",
       "      <td>...</td>\n",
       "    </tr>\n",
       "    <tr>\n",
       "      <th>437</th>\n",
       "      <td>178.0</td>\n",
       "      <td>0.019662</td>\n",
       "      <td>0.031193</td>\n",
       "      <td>0.059744</td>\n",
       "      <td>-0.002592</td>\n",
       "      <td>0.007207</td>\n",
       "      <td>-0.005697</td>\n",
       "      <td>0.041708</td>\n",
       "      <td>-0.002566</td>\n",
       "    </tr>\n",
       "    <tr>\n",
       "      <th>438</th>\n",
       "      <td>104.0</td>\n",
       "      <td>-0.015906</td>\n",
       "      <td>-0.018114</td>\n",
       "      <td>-0.067642</td>\n",
       "      <td>0.034309</td>\n",
       "      <td>0.044485</td>\n",
       "      <td>0.049341</td>\n",
       "      <td>-0.005515</td>\n",
       "      <td>0.079165</td>\n",
       "    </tr>\n",
       "    <tr>\n",
       "      <th>439</th>\n",
       "      <td>132.0</td>\n",
       "      <td>-0.015906</td>\n",
       "      <td>-0.046883</td>\n",
       "      <td>0.017293</td>\n",
       "      <td>-0.011080</td>\n",
       "      <td>0.015491</td>\n",
       "      <td>-0.037344</td>\n",
       "      <td>0.041708</td>\n",
       "      <td>-0.013840</td>\n",
       "    </tr>\n",
       "    <tr>\n",
       "      <th>440</th>\n",
       "      <td>220.0</td>\n",
       "      <td>0.039062</td>\n",
       "      <td>0.044529</td>\n",
       "      <td>0.001215</td>\n",
       "      <td>0.026560</td>\n",
       "      <td>-0.025930</td>\n",
       "      <td>0.016318</td>\n",
       "      <td>-0.045472</td>\n",
       "      <td>0.015283</td>\n",
       "    </tr>\n",
       "    <tr>\n",
       "      <th>441</th>\n",
       "      <td>57.0</td>\n",
       "      <td>-0.073030</td>\n",
       "      <td>-0.004222</td>\n",
       "      <td>-0.081413</td>\n",
       "      <td>-0.039493</td>\n",
       "      <td>0.003064</td>\n",
       "      <td>0.083740</td>\n",
       "      <td>-0.045472</td>\n",
       "      <td>0.027809</td>\n",
       "    </tr>\n",
       "  </tbody>\n",
       "</table>\n",
       "<p>442 rows × 9 columns</p>\n",
       "</div>"
      ],
      "text/plain": [
       "     class       bmi        s5        bp        s4        s6        s1  \\\n",
       "0    151.0  0.061696  0.019907  0.021872 -0.002592 -0.017646 -0.044223   \n",
       "1     75.0 -0.051474 -0.068332 -0.026328 -0.039493 -0.092204 -0.008449   \n",
       "2    141.0  0.044451  0.002861 -0.005670 -0.002592 -0.025930 -0.045599   \n",
       "3    206.0 -0.011595  0.022688 -0.036656  0.034309 -0.009362  0.012191   \n",
       "4    135.0 -0.036385 -0.031988  0.021872 -0.002592 -0.046641  0.003935   \n",
       "..     ...       ...       ...       ...       ...       ...       ...   \n",
       "437  178.0  0.019662  0.031193  0.059744 -0.002592  0.007207 -0.005697   \n",
       "438  104.0 -0.015906 -0.018114 -0.067642  0.034309  0.044485  0.049341   \n",
       "439  132.0 -0.015906 -0.046883  0.017293 -0.011080  0.015491 -0.037344   \n",
       "440  220.0  0.039062  0.044529  0.001215  0.026560 -0.025930  0.016318   \n",
       "441   57.0 -0.073030 -0.004222 -0.081413 -0.039493  0.003064  0.083740   \n",
       "\n",
       "          age        s2  \n",
       "0    0.038076 -0.034821  \n",
       "1   -0.001882 -0.019163  \n",
       "2    0.085299 -0.034194  \n",
       "3   -0.089063  0.024991  \n",
       "4    0.005383  0.015596  \n",
       "..        ...       ...  \n",
       "437  0.041708 -0.002566  \n",
       "438 -0.005515  0.079165  \n",
       "439  0.041708 -0.013840  \n",
       "440 -0.045472  0.015283  \n",
       "441 -0.045472  0.027809  \n",
       "\n",
       "[442 rows x 9 columns]"
      ]
     },
     "execution_count": 28,
     "metadata": {},
     "output_type": "execute_result"
    }
   ],
   "source": [
    "df"
   ]
  },
  {
   "cell_type": "code",
   "execution_count": 29,
   "id": "0acdf32a",
   "metadata": {},
   "outputs": [
    {
     "data": {
      "image/png": "[encoded data removed]",
      "text/plain": [
       "<Figure size 1000x500 with 1 Axes>"
      ]
     },
     "metadata": {},
     "output_type": "display_data"
    }
   ],
   "source": [
    "plt.scatter(df.iloc[:, 1], df['class'], color='b', marker='o', s=30)\n",
    "plt.xlabel('BMI')\n",
    "plt.ylabel('Class')\n",
    "plt.show()"
   ]
  },
  {
   "cell_type": "markdown",
   "id": "0c834f03",
   "metadata": {},
   "source": [
    "## Splitting data and Model Fitting"
   ]
  },
  {
   "cell_type": "code",
   "execution_count": 30,
   "id": "b5668014",
   "metadata": {},
   "outputs": [],
   "source": [
    "X = df.drop('class', axis=1)\n",
    "y = df['class']\n",
    "\n",
    "X_train, X_test, y_train, y_test = train_test_split(X, y, test_size=.25, random_state=12)"
   ]
  },
  {
   "cell_type": "code",
   "execution_count": 31,
   "id": "4bbdf968",
   "metadata": {},
   "outputs": [
    {
     "name": "stdout",
     "output_type": "stream",
     "text": [
      "X_train: (331, 8) X_test: (111, 8) y_train: (331,) y_test: (111,)\n"
     ]
    }
   ],
   "source": [
    "print(\"X_train:\" , X_train.shape, \"X_test:\", X_test.shape, \"y_train:\", y_train.shape, \"y_test:\", y_test.shape)"
   ]
  },
  {
   "cell_type": "markdown",
   "id": "301216dd",
   "metadata": {},
   "source": [
    "## Implementation of Linear Regression with cost function and Minimization approach (Gradient Descent)"
   ]
  },
  {
   "cell_type": "code",
   "execution_count": 32,
   "id": "7a36a710",
   "metadata": {},
   "outputs": [],
   "source": [
    "# class LinearRegression:\n",
    "    \n",
    "#     def __init__(self, lr=0.001, n_iters=1000):\n",
    "#         self.lr = lr\n",
    "#         self.n_iters = n_iters\n",
    "#         self.weights = None\n",
    "#         self.bias = None\n",
    "    \n",
    "#     # Fit method uses gradient descent \n",
    "#     def fit(self, X, y):\n",
    "#         n_samples, n_features = X.shape\n",
    "#         self.weights = np.zeros(n_features)\n",
    "#         self.bias = 0\n",
    "        \n",
    "#         for _ in range(self.n_iters):\n",
    "#             y_preds = np.dot(X, self.weights) + self.bias\n",
    "            \n",
    "#             dw = (1 / n_samples) * np.dot(X.T, (y_preds - y))\n",
    "#             db = (1 / n_samples) * np.sum(y_preds - y)\n",
    "            \n",
    "#             self.weights-= self.lr * dw\n",
    "#             self.bias -= self.lr * db\n",
    "            \n",
    "#     def predict(self, X):\n",
    "#         y_preds = np.dot(X, self.weights) + self.bias\n",
    "#         return y_preds\n",
    "\n",
    "class LinearRegression:\n",
    "    \n",
    "    def __init__(self, lr=0.001, n_iters=1000, regularization=None, lambda_=0.01):\n",
    "        self.lr = lr\n",
    "        self.n_iters = n_iters\n",
    "        self.regularization = regularization\n",
    "        self.lambda_ = lambda_\n",
    "        self.weights = None\n",
    "        self.bias = None\n",
    "    \n",
    "    def fit(self, X, y):\n",
    "        n_samples, n_features = X.shape\n",
    "\n",
    "        self.weights = np.zeros(n_features)\n",
    "        self.bias = 0\n",
    "        \n",
    "        for _ in range(self.n_iters):\n",
    "            y_preds = np.dot(X, self.weights) + self.bias\n",
    "            \n",
    "            dw = (1 / n_samples) * (np.dot(X.T, (y_preds - y)) + self.lambda_ * np.sign(self.weights))\n",
    "            db = (1 / n_samples) * np.sum(y_preds - y)\n",
    "            \n",
    "            self.weights -= self.lr * dw\n",
    "            self.bias -= self.lr * db\n",
    "    \n",
    "    def predict(self, X):\n",
    "        y_preds = np.dot(X, self.weights) + self.bias\n",
    "        return y_preds"
   ]
  },
  {
   "cell_type": "code",
   "execution_count": 33,
   "id": "1327232c",
   "metadata": {},
   "outputs": [],
   "source": [
    "def MSE(y_actual, y_preds):\n",
    "    return np.mean((y_actual - y_preds) ** 2)"
   ]
  },
  {
   "cell_type": "code",
   "execution_count": 34,
   "id": "e3496d94",
   "metadata": {},
   "outputs": [],
   "source": [
    "linear = LinearRegression(lr=0.1, n_iters=20000, regularization=10, lambda_=10)\n",
    "linear.fit(X_train, y_train)"
   ]
  },
  {
   "cell_type": "code",
   "execution_count": 35,
   "id": "e88887f5",
   "metadata": {},
   "outputs": [],
   "source": [
    "preds = linear.predict(X_test)"
   ]
  },
  {
   "cell_type": "code",
   "execution_count": 37,
   "id": "3f15cc1e",
   "metadata": {},
   "outputs": [
    {
     "data": {
      "text/plain": [
       "array([226.9792, 110.603 , 147.9286, 107.736 , 191.0901, 141.2455,\n",
       "       113.9982, 174.5388, 152.4243, 190.7403, 241.3169, 183.5797,\n",
       "       138.5947, 128.2152,  61.7526, 219.4866, 156.8432,  68.7466,\n",
       "       161.2211, 169.4754, 112.6313,  80.9395, 240.7687, 154.3234,\n",
       "       180.9676, 119.5546, 166.2592, 101.9129,  88.5417, 123.6952,\n",
       "       156.3935, 170.2159, 187.1407, 120.9008,  91.8596, 185.432 ,\n",
       "        97.1244, 191.8154, 163.2627, 146.8995, 240.4908, 220.3696,\n",
       "       128.8227,  77.9576, 178.7993, 104.8174, 179.3209,  96.3347,\n",
       "       215.9507, 247.0159, 101.5894, 122.6117, 204.2575, 148.1756,\n",
       "       156.3747, 160.9867, 147.4317, 206.5844, 206.4829, 189.5231,\n",
       "       261.195 , 130.9927, 150.6322,  99.3754,  48.0263,  49.8866,\n",
       "       154.606 , 218.0162, 105.2339, 180.8946, 116.7031, 110.0586,\n",
       "       130.3715,  88.0416, 146.1055, 165.2508, 169.3738, 112.3543,\n",
       "       183.3083, 212.2269, 119.8392, 162.4729, 119.5061,  86.6998,\n",
       "       137.6321, 166.154 , 224.495 , 152.6467,  51.8084, 121.7665,\n",
       "       150.3248, 177.7939, 215.7587, 104.016 , 190.4473, 141.5681,\n",
       "       214.9907,  84.9827, 138.2186, 149.3462,  85.0021, 220.7377,\n",
       "       235.2645, 172.9164, 293.0519, 216.38  , 153.4174, 196.6877,\n",
       "        58.2705, 175.8421,  83.6417])"
      ]
     },
     "execution_count": 37,
     "metadata": {},
     "output_type": "execute_result"
    }
   ],
   "source": [
    "preds"
   ]
  },
  {
   "cell_type": "code",
   "execution_count": 38,
   "id": "b27857b9",
   "metadata": {},
   "outputs": [
    {
     "data": {
      "text/plain": [
       "3503.376208209822"
      ]
     },
     "execution_count": 38,
     "metadata": {},
     "output_type": "execute_result"
    }
   ],
   "source": [
    "MSE(y_test, preds)"
   ]
  },
  {
   "cell_type": "code",
   "execution_count": 39,
   "id": "18fbbe70",
   "metadata": {},
   "outputs": [
    {
     "data": {
      "text/plain": [
       "0.38561703705693373"
      ]
     },
     "execution_count": 39,
     "metadata": {},
     "output_type": "execute_result"
    }
   ],
   "source": [
    "r2_score(y_test, preds)"
   ]
  }
 ],
 "metadata": {
  "kernelspec": {
   "display_name": "Python 3 (ipykernel)",
   "language": "python",
   "name": "python3"
  },
  "language_info": {
   "codemirror_mode": {
    "name": "ipython",
    "version": 3
   },
   "file_extension": ".py",
   "mimetype": "text/x-python",
   "name": "python",
   "nbconvert_exporter": "python",
   "pygments_lexer": "ipython3",
   "version": "3.9.16"
  }
 },
 "nbformat": 4,
 "nbformat_minor": 5
}
