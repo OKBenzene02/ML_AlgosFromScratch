{
 "cells": [
  {
   "cell_type": "markdown",
   "id": "1d607ae9",
   "metadata": {},
   "source": [
    "## Import the required packages and libraries"
   ]
  },
  {
   "cell_type": "code",
   "execution_count": 1,
   "id": "3576c2ab",
   "metadata": {},
   "outputs": [],
   "source": [
    "import pandas as pd\n",
    "import numpy as np\n",
    "from pandas import Series, DataFrame\n",
    "\n",
    "import matplotlib.pyplot as plt\n",
    "import seaborn as sb\n",
    "from matplotlib import rcParams\n",
    "\n",
    "import sklearn as sk\n",
    "from sklearn import datasets\n",
    "from sklearn.model_selection import train_test_split\n",
    "from sklearn.metrics import classification_report\n",
    "\n",
    "%matplotlib inline\n",
    "rcParams['figure.figsize'] = 10, 5\n",
    "sb.set_style('whitegrid')\n",
    "np.set_printoptions(precision=4, suppress=True)"
   ]
  },
  {
   "cell_type": "markdown",
   "id": "a5ae757e",
   "metadata": {},
   "source": [
    "## Setting up the data"
   ]
  },
  {
   "cell_type": "code",
   "execution_count": 2,
   "id": "f6bf175a",
   "metadata": {},
   "outputs": [],
   "source": [
    "# cancer = datasets.load_breast_cancer()\n",
    "\n",
    "# df = DataFrame(cancer.data, columns=cancer.feature_names)\n",
    "# df['class'] =  cancer.target\n",
    "# df.head()"
   ]
  },
  {
   "cell_type": "markdown",
   "id": "56fc9c7a",
   "metadata": {},
   "source": [
    "## Splitting the data into input and output features"
   ]
  },
  {
   "cell_type": "code",
   "execution_count": 3,
   "id": "e12f12ea",
   "metadata": {},
   "outputs": [],
   "source": [
    "# X = df.drop('class', axis=1)\n",
    "# y = df['class']\n",
    "\n",
    "X, y = datasets.make_blobs(n_samples=150, n_features=2, centers=2, cluster_std=1.05, random_state=10)\n",
    "\n",
    "X_train, X_test, y_train, y_test = train_test_split(X, y, test_size=.25, random_state=10)"
   ]
  },
  {
   "cell_type": "markdown",
   "id": "76f59081",
   "metadata": {},
   "source": [
    "## Implementation of SVM using numpy and pandas"
   ]
  },
  {
   "cell_type": "code",
   "execution_count": 4,
   "id": "f9bce0fa",
   "metadata": {},
   "outputs": [],
   "source": [
    "class SupportVectors:\n",
    "    \n",
    "    def __init__(self, lr=0.001, c=0.01, n_iters=1000):\n",
    "        self.lr = lr\n",
    "        self.c = c\n",
    "        self.n_iters = n_iters\n",
    "        self.weights= None\n",
    "        self.bias = None\n",
    "        \n",
    "    def fit(self, X, y):\n",
    "        X = X.astype(np.float64)\n",
    "        y_preds = np.where(y <= 0, -1, 1).astype(np.float64)\n",
    "        n_samples, n_features = X.shape\n",
    "        \n",
    "        self.weights = np.zeros(n_features)\n",
    "        self.bias = 0\n",
    "        \n",
    "        for _ in range(self.n_iters):\n",
    "            for i, x in enumerate(X):\n",
    "                condition = y_preds[i] * (np.dot(x, self.weights) - self.bias) >= 1\n",
    "                if condition: self.weights -= self.lr * (2 * self.c * self.weights)\n",
    "                else: \n",
    "                    self.weights -= self.lr * (2 * self.c * self.weights - np.dot(x, y_preds[i]))\n",
    "                    self.bias -= self.lr * y_preds[i]\n",
    "                \n",
    "    def predict(self, X):\n",
    "        linear_output = np.dot(X, self.weights) - self.bias\n",
    "        return np.sign(linear_output)\n",
    "    \n",
    "    def __predict_helper__(self, X):\n",
    "        pass"
   ]
  },
  {
   "cell_type": "code",
   "execution_count": 5,
   "id": "27dc6ff8",
   "metadata": {},
   "outputs": [],
   "source": [
    "svm = SupportVectors()\n",
    "svm.fit(X_train, y_train)"
   ]
  },
  {
   "cell_type": "code",
   "execution_count": 6,
   "id": "dfc14598",
   "metadata": {},
   "outputs": [],
   "source": [
    "preds = svm.predict(X_test)"
   ]
  },
  {
   "cell_type": "code",
   "execution_count": 7,
   "id": "f028b44e",
   "metadata": {},
   "outputs": [
    {
     "name": "stdout",
     "output_type": "stream",
     "text": [
      "              precision    recall  f1-score   support\n",
      "\n",
      "        -1.0       0.00      0.00      0.00        16\n",
      "         0.0       0.00      0.00      0.00         0\n",
      "         1.0       1.00      1.00      1.00        22\n",
      "\n",
      "    accuracy                           0.58        38\n",
      "   macro avg       0.33      0.33      0.33        38\n",
      "weighted avg       0.58      0.58      0.58        38\n",
      "\n"
     ]
    },
    {
     "name": "stderr",
     "output_type": "stream",
     "text": [
      "C:\\Users\\liyak\\anaconda3\\lib\\site-packages\\sklearn\\metrics\\_classification.py:1344: UndefinedMetricWarning: Precision and F-score are ill-defined and being set to 0.0 in labels with no predicted samples. Use `zero_division` parameter to control this behavior.\n",
      "  _warn_prf(average, modifier, msg_start, len(result))\n",
      "C:\\Users\\liyak\\anaconda3\\lib\\site-packages\\sklearn\\metrics\\_classification.py:1344: UndefinedMetricWarning: Recall and F-score are ill-defined and being set to 0.0 in labels with no true samples. Use `zero_division` parameter to control this behavior.\n",
      "  _warn_prf(average, modifier, msg_start, len(result))\n",
      "C:\\Users\\liyak\\anaconda3\\lib\\site-packages\\sklearn\\metrics\\_classification.py:1344: UndefinedMetricWarning: Precision and F-score are ill-defined and being set to 0.0 in labels with no predicted samples. Use `zero_division` parameter to control this behavior.\n",
      "  _warn_prf(average, modifier, msg_start, len(result))\n",
      "C:\\Users\\liyak\\anaconda3\\lib\\site-packages\\sklearn\\metrics\\_classification.py:1344: UndefinedMetricWarning: Recall and F-score are ill-defined and being set to 0.0 in labels with no true samples. Use `zero_division` parameter to control this behavior.\n",
      "  _warn_prf(average, modifier, msg_start, len(result))\n",
      "C:\\Users\\liyak\\anaconda3\\lib\\site-packages\\sklearn\\metrics\\_classification.py:1344: UndefinedMetricWarning: Precision and F-score are ill-defined and being set to 0.0 in labels with no predicted samples. Use `zero_division` parameter to control this behavior.\n",
      "  _warn_prf(average, modifier, msg_start, len(result))\n",
      "C:\\Users\\liyak\\anaconda3\\lib\\site-packages\\sklearn\\metrics\\_classification.py:1344: UndefinedMetricWarning: Recall and F-score are ill-defined and being set to 0.0 in labels with no true samples. Use `zero_division` parameter to control this behavior.\n",
      "  _warn_prf(average, modifier, msg_start, len(result))\n"
     ]
    }
   ],
   "source": [
    "print(classification_report(preds, y_test))"
   ]
  }
 ],
 "metadata": {
  "kernelspec": {
   "display_name": "Python 3 (ipykernel)",
   "language": "python",
   "name": "python3"
  },
  "language_info": {
   "codemirror_mode": {
    "name": "ipython",
    "version": 3
   },
   "file_extension": ".py",
   "mimetype": "text/x-python",
   "name": "python",
   "nbconvert_exporter": "python",
   "pygments_lexer": "ipython3",
   "version": "3.9.16"
  }
 },
 "nbformat": 4,
 "nbformat_minor": 5
}
